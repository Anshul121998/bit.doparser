{
 "cells": [
  {
   "cell_type": "code",
   "execution_count": 1,
   "metadata": {},
   "outputs": [],
   "source": [
    "import requests # The requests library is an \n",
    "# HTTP library for getting and posting content etc.\n",
    "\n",
    "import bs4 as bs # BeautifulSoup4 is a Python library \n",
    "# for pulling data out of HTML and XML code.\n",
    "# We can query markup languages for specific content"
   ]
  },
  {
   "cell_type": "code",
   "execution_count": 2,
   "metadata": {},
   "outputs": [],
   "source": [
    "ch = \"ab1w2g3y45cdefg\"\n",
    "l =[]\n",
    "for i in range(0,len(ch)):\n",
    "    for j in range(0,len(ch)):\n",
    "        for k in range(0,len(ch)):\n",
    "            for l in range(0,len(ch)):\n",
    "                for m in range(0,len(ch)):\n",
    "                    for n in range(0,len(ch)):\n",
    "                        source = requests.get(\"https://bit.do/\"+ch[i]+ch[j]+ch[k]+ch[l]+ch[m]+ch[n]) \n",
    "                        if(str(source) == \"<Response [200]>\"):\n",
    "                            l.append(ch[i]+ch[j]+ch[k]+ch[l]+ch[m]+ch[n])"
   ]
  }
 ],
 "metadata": {
  "kernelspec": {
   "display_name": "Python 3",
   "language": "python",
   "name": "python3"
  },
  "language_info": {
   "codemirror_mode": {
    "name": "ipython",
    "version": 3
   },
   "file_extension": ".py",
   "mimetype": "text/x-python",
   "name": "python",
   "nbconvert_exporter": "python",
   "pygments_lexer": "ipython3",
   "version": "3.6.4"
  }
 },
 "nbformat": 4,
 "nbformat_minor": 2
}
